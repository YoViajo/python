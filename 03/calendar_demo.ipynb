{
 "cells": [
  {
   "cell_type": "markdown",
   "metadata": {},
   "source": [
    "Ref: https://twitter.com/clcoding/status/1550317703277060096?t=EG3SGzk6x4XompMnK4rUqQ&s=09\n",
    "How do you print a whole year calendar in Python?"
   ]
  },
  {
   "cell_type": "code",
   "execution_count": 1,
   "metadata": {},
   "outputs": [],
   "source": [
    "from calendar import *"
   ]
  },
  {
   "cell_type": "markdown",
   "metadata": {},
   "source": [
    "2 = 2 characters for days (Mo,Tu, etc)\n",
    "1 = 1 line (row) for each week\n",
    "8 = 8 rows for each month\n",
    "4 = 4 columns for all months of the year"
   ]
  },
  {
   "cell_type": "code",
   "execution_count": 2,
   "metadata": {},
   "outputs": [
    {
     "name": "stdout",
     "output_type": "stream",
     "text": [
      "                                                  2022\n",
      "\n",
      "      January                     February                     March                       April\n",
      "Mo Tu We Th Fr Sa Su        Mo Tu We Th Fr Sa Su        Mo Tu We Th Fr Sa Su        Mo Tu We Th Fr Sa Su\n",
      "                1  2            1  2  3  4  5  6            1  2  3  4  5  6                     1  2  3\n",
      " 3  4  5  6  7  8  9         7  8  9 10 11 12 13         7  8  9 10 11 12 13         4  5  6  7  8  9 10\n",
      "10 11 12 13 14 15 16        14 15 16 17 18 19 20        14 15 16 17 18 19 20        11 12 13 14 15 16 17\n",
      "17 18 19 20 21 22 23        21 22 23 24 25 26 27        21 22 23 24 25 26 27        18 19 20 21 22 23 24\n",
      "24 25 26 27 28 29 30        28                          28 29 30 31                 25 26 27 28 29 30\n",
      "31\n",
      "\n",
      "        May                         June                        July                       August\n",
      "Mo Tu We Th Fr Sa Su        Mo Tu We Th Fr Sa Su        Mo Tu We Th Fr Sa Su        Mo Tu We Th Fr Sa Su\n",
      "                   1               1  2  3  4  5                     1  2  3         1  2  3  4  5  6  7\n",
      " 2  3  4  5  6  7  8         6  7  8  9 10 11 12         4  5  6  7  8  9 10         8  9 10 11 12 13 14\n",
      " 9 10 11 12 13 14 15        13 14 15 16 17 18 19        11 12 13 14 15 16 17        15 16 17 18 19 20 21\n",
      "16 17 18 19 20 21 22        20 21 22 23 24 25 26        18 19 20 21 22 23 24        22 23 24 25 26 27 28\n",
      "23 24 25 26 27 28 29        27 28 29 30                 25 26 27 28 29 30 31        29 30 31\n",
      "30 31\n",
      "\n",
      "     September                    October                     November                    December\n",
      "Mo Tu We Th Fr Sa Su        Mo Tu We Th Fr Sa Su        Mo Tu We Th Fr Sa Su        Mo Tu We Th Fr Sa Su\n",
      "          1  2  3  4                        1  2            1  2  3  4  5  6                  1  2  3  4\n",
      " 5  6  7  8  9 10 11         3  4  5  6  7  8  9         7  8  9 10 11 12 13         5  6  7  8  9 10 11\n",
      "12 13 14 15 16 17 18        10 11 12 13 14 15 16        14 15 16 17 18 19 20        12 13 14 15 16 17 18\n",
      "19 20 21 22 23 24 25        17 18 19 20 21 22 23        21 22 23 24 25 26 27        19 20 21 22 23 24 25\n",
      "26 27 28 29 30              24 25 26 27 28 29 30        28 29 30                    26 27 28 29 30 31\n",
      "                            31\n",
      "\n"
     ]
    }
   ],
   "source": [
    "year = int(input('Enter year:'))\n",
    "print(calendar(year, 2, 1, 8, 4))"
   ]
  }
 ],
 "metadata": {
  "kernelspec": {
   "display_name": "Python 3.10.5 ('geemap')",
   "language": "python",
   "name": "python3"
  },
  "language_info": {
   "codemirror_mode": {
    "name": "ipython",
    "version": 3
   },
   "file_extension": ".py",
   "mimetype": "text/x-python",
   "name": "python",
   "nbconvert_exporter": "python",
   "pygments_lexer": "ipython3",
   "version": "3.10.5"
  },
  "orig_nbformat": 4,
  "vscode": {
   "interpreter": {
    "hash": "a1a7bebf36626153699dc5b9ba3362c3f8ccb8a2da15d68e9de5165e34010214"
   }
  }
 },
 "nbformat": 4,
 "nbformat_minor": 2
}
