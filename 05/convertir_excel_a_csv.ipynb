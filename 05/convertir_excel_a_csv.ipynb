{
 "cells": [
  {
   "cell_type": "code",
   "execution_count": 3,
   "metadata": {},
   "outputs": [],
   "source": [
    "import csv\n",
    "import openpyxl\n",
    " \n",
    "from openpyxl import load_workbook"
   ]
  },
  {
   "cell_type": "code",
   "execution_count": 6,
   "metadata": {},
   "outputs": [],
   "source": [
    "def excel_to_csv(excel_file, csv_file):\n",
    "    workbook = load_workbook(filename=excel_file)\n",
    "    sheet = workbook.active\n",
    "    csv_data = []\n",
    "\n",
    "    # Read data from Excel\n",
    "    for value in sheet.iter_rows(values_only=True):\n",
    "        csv_data.append(list(value))\n",
    "\n",
    "    # Write to CSV\n",
    "    with open(csv_file, 'w') as csv_file_obj:\n",
    "        writer = csv.writer(csv_file_obj, delimiter=',')\n",
    "        for line in csv_data:\n",
    "            writer.writerow(line) "
   ]
  },
  {
   "cell_type": "code",
   "execution_count": 7,
   "metadata": {},
   "outputs": [],
   "source": [
    "archivo_excel = \"/home/yoviajo/Documentos/lab/proy/otros/93/Formulario_de_registro_-__campaña_eliminación_de_criaderos_y_aplicación_de_larvicida_-_all_versions_-_labels_-_2023-02-23-19-51-16.xlsx\" \n",
    "archivo_csv = \"/home/yoviajo/Documentos/lab/proy/otros/93/salida.csv\"\n",
    "\n",
    "excel_to_csv(archivo_excel,archivo_csv)"
   ]
  }
 ],
 "metadata": {
  "kernelspec": {
   "display_name": "excel",
   "language": "python",
   "name": "python3"
  },
  "language_info": {
   "codemirror_mode": {
    "name": "ipython",
    "version": 3
   },
   "file_extension": ".py",
   "mimetype": "text/x-python",
   "name": "python",
   "nbconvert_exporter": "python",
   "pygments_lexer": "ipython3",
   "version": "3.10.9"
  },
  "orig_nbformat": 4,
  "vscode": {
   "interpreter": {
    "hash": "6494ae54a16eef2a37c812f476fdad995cf4cd19ec936a734a7992e65f5e6ad8"
   }
  }
 },
 "nbformat": 4,
 "nbformat_minor": 2
}
