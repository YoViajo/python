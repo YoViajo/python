{
 "cells": [
  {
   "cell_type": "markdown",
   "metadata": {},
   "source": [
    "## Estructuras de control"
   ]
  },
  {
   "cell_type": "markdown",
   "metadata": {},
   "source": [
    "Ciclo FOR"
   ]
  },
  {
   "cell_type": "code",
   "execution_count": 1,
   "metadata": {},
   "outputs": [
    {
     "name": "stdout",
     "output_type": "stream",
     "text": [
      "Éste es el ciclo: 1\n",
      "Éste es el ciclo: 2\n",
      "Éste es el ciclo: 3\n",
      "Éste es el ciclo: 4\n",
      "Éste es el ciclo: 5\n",
      "Ciclo FOR ejecutado con éxito\n"
     ]
    }
   ],
   "source": [
    "for i in range(5):\n",
    "    n = i + 1\n",
    "    print('Éste es el ciclo:', n)\n",
    "\n",
    "print('Ciclo FOR ejecutado con éxito')"
   ]
  },
  {
   "cell_type": "markdown",
   "metadata": {},
   "source": [
    "Recorrer los elementos de una estructura"
   ]
  },
  {
   "cell_type": "code",
   "execution_count": 2,
   "metadata": {},
   "outputs": [
    {
     "name": "stdout",
     "output_type": "stream",
     "text": [
      "Plutónica\n",
      "Volcánica\n",
      "Sedimentaria\n",
      "Metamórfica\n"
     ]
    }
   ],
   "source": [
    "rocas = ['Plutónica', 'Volcánica', 'Sedimentaria', 'Metamórfica']\n",
    "\n",
    "for roca in rocas:\n",
    "    print(roca)"
   ]
  },
  {
   "cell_type": "markdown",
   "metadata": {},
   "source": [
    "Iterar con diccionarios"
   ]
  },
  {
   "cell_type": "code",
   "execution_count": 3,
   "metadata": {},
   "outputs": [
    {
     "name": "stdout",
     "output_type": "stream",
     "text": [
      "Granito es una roca Intrusiva\n",
      "Arenisca es una roca Sedimentaria\n",
      "Mármol es una roca Metamórfica\n"
     ]
    }
   ],
   "source": [
    "rocas = {'Granito':'Intrusiva', 'Arenisca':'Sedimentaria', \n",
    "'Mármol': 'Metamórfica'}\n",
    "\n",
    "for roca, tipo_de in rocas.items():\n",
    "    print(roca, 'es una roca', tipo_de)"
   ]
  },
  {
   "cell_type": "markdown",
   "metadata": {},
   "source": [
    "Cambiar en base a su anterior valor"
   ]
  },
  {
   "cell_type": "code",
   "execution_count": 4,
   "metadata": {},
   "outputs": [
    {
     "name": "stdout",
     "output_type": "stream",
     "text": [
      "2\n"
     ]
    }
   ],
   "source": [
    "a = 0\n",
    "a = a + 1\n",
    "a = a + 1\n",
    "print(a)"
   ]
  },
  {
   "cell_type": "markdown",
   "metadata": {},
   "source": [
    "Suma de los números contenidos en una tupla"
   ]
  },
  {
   "cell_type": "code",
   "execution_count": 5,
   "metadata": {},
   "outputs": [
    {
     "name": "stdout",
     "output_type": "stream",
     "text": [
      "La suma de los 10 números es: 120\n"
     ]
    }
   ],
   "source": [
    "#Definición de la lista contenedora de sólo números.\n",
    "numeros = (3, 5, 7, 9, 11, 13, 15, 17, 19, 21)\n",
    "suma = 0   #Se define una variable a incrementar con valor inicial.\n",
    "i = 0    #Se define una variable contadora\n",
    "for n in numeros:  \n",
    "    i = i + 1        \n",
    "    suma = suma + n  #Al anterior valor de suma, se agrega el nuevo.\n",
    "    \n",
    "print('La suma de los', i,'números es:', suma)"
   ]
  },
  {
   "cell_type": "markdown",
   "metadata": {},
   "source": [
    "Generar una lista de múltiplos de 5"
   ]
  },
  {
   "cell_type": "code",
   "execution_count": 6,
   "metadata": {},
   "outputs": [
    {
     "name": "stdout",
     "output_type": "stream",
     "text": [
      "[10, 15, 20, 25, 30, 35, 40, 45, 50, 55]\n"
     ]
    }
   ],
   "source": [
    "multiplos_5 = list()\n",
    "for i in range(2, 12):\n",
    "    mult = i*5\n",
    "    multiplos_5.append(mult)\n",
    "print(multiplos_5)"
   ]
  },
  {
   "cell_type": "markdown",
   "metadata": {},
   "source": [
    "Ahora con la función range()"
   ]
  },
  {
   "cell_type": "code",
   "execution_count": 7,
   "metadata": {},
   "outputs": [
    {
     "name": "stdout",
     "output_type": "stream",
     "text": [
      "[10, 15, 20, 25, 30, 35, 40, 45, 50, 55]\n"
     ]
    }
   ],
   "source": [
    "multiplos_5 = list()\n",
    "for i in range(10, 60, 5):\n",
    "    multiplos_5.append(i)\n",
    "    \n",
    "print(multiplos_5)"
   ]
  },
  {
   "cell_type": "markdown",
   "metadata": {},
   "source": [
    "SENTENCIA LÓGICA IF"
   ]
  },
  {
   "cell_type": "code",
   "execution_count": 8,
   "metadata": {},
   "outputs": [
    {
     "name": "stdout",
     "output_type": "stream",
     "text": [
      "Ponerse una chamarra.\n"
     ]
    }
   ],
   "source": [
    "evento_A = 'llueve'\n",
    "if evento_A == 'llueve':\n",
    "    print('Ponerse una chamarra.')"
   ]
  },
  {
   "cell_type": "markdown",
   "metadata": {},
   "source": [
    "Tarea alternativa"
   ]
  },
  {
   "cell_type": "code",
   "execution_count": 9,
   "metadata": {},
   "outputs": [
    {
     "name": "stdout",
     "output_type": "stream",
     "text": [
      "Ponerse un chaleco.\n"
     ]
    }
   ],
   "source": [
    "evento_A = 'no llueve'\n",
    "if evento_A == 'llueve':\n",
    "    print('Ponerse una chamarra.')\n",
    "else:\n",
    "    print('Ponerse un chaleco.')"
   ]
  },
  {
   "cell_type": "markdown",
   "metadata": {},
   "source": [
    "Condiciones múltiples"
   ]
  },
  {
   "cell_type": "code",
   "execution_count": 10,
   "metadata": {},
   "outputs": [
    {
     "name": "stdout",
     "output_type": "stream",
     "text": [
      "Ponerse una camiseta.\n"
     ]
    }
   ],
   "source": [
    "evento_A = 'soleado'\n",
    "if evento_A == 'llueve':\n",
    "    print('Ponerse una chamarra.')\n",
    "elif evento_A == 'soleado':\n",
    "    print('Ponerse una camiseta.')\n",
    "elif evento_A == 'nublado':\n",
    "    print('Ponerse un chaleco.')"
   ]
  },
  {
   "cell_type": "markdown",
   "metadata": {},
   "source": [
    "Condiciones anidadas"
   ]
  },
  {
   "cell_type": "code",
   "execution_count": 11,
   "metadata": {},
   "outputs": [
    {
     "name": "stdout",
     "output_type": "stream",
     "text": [
      "X es real negativo.\n"
     ]
    }
   ],
   "source": [
    "X = -7\n",
    "if X != 0:\n",
    "    if X > 0:\n",
    "        print('X es real positivo.')\n",
    "    else:\n",
    "        print('X es real negativo.')\n",
    "else:\n",
    "    print('X es cero.')"
   ]
  },
  {
   "cell_type": "markdown",
   "metadata": {},
   "source": [
    "Ejercicio: Clasificación de una serie de números en dos listas"
   ]
  },
  {
   "cell_type": "code",
   "execution_count": 12,
   "metadata": {},
   "outputs": [],
   "source": [
    "numeros = [13, 7, 17, 15, 5, 8, 9, 18, 5, 31, 33, 13, 2]\n",
    "multiplos_tres = list()\n",
    "no_multiplos_tres = list()"
   ]
  },
  {
   "cell_type": "markdown",
   "metadata": {},
   "source": [
    "verificar si es múltiplo de 3 (residuo es 0 en operador modular)"
   ]
  },
  {
   "cell_type": "code",
   "execution_count": 13,
   "metadata": {},
   "outputs": [],
   "source": [
    "for numero in numeros:\n",
    "    if numero%3 == 0:\n",
    "        multiplos_tres.append(numero)\n",
    "    else:\n",
    "        no_multiplos_tres.append(numero)"
   ]
  },
  {
   "cell_type": "markdown",
   "metadata": {},
   "source": [
    "mostrar resultados"
   ]
  },
  {
   "cell_type": "code",
   "execution_count": 14,
   "metadata": {},
   "outputs": [
    {
     "name": "stdout",
     "output_type": "stream",
     "text": [
      "[15, 9, 18, 33]\n"
     ]
    }
   ],
   "source": [
    "print(multiplos_tres)"
   ]
  },
  {
   "cell_type": "code",
   "execution_count": 15,
   "metadata": {},
   "outputs": [
    {
     "name": "stdout",
     "output_type": "stream",
     "text": [
      "[13, 7, 17, 5, 8, 5, 31, 13, 2]\n"
     ]
    }
   ],
   "source": [
    "print(no_multiplos_tres)"
   ]
  },
  {
   "cell_type": "markdown",
   "metadata": {},
   "source": [
    "CICLO WHILE"
   ]
  },
  {
   "cell_type": "code",
   "execution_count": 16,
   "metadata": {},
   "outputs": [
    {
     "name": "stdout",
     "output_type": "stream",
     "text": [
      "10\n",
      "9\n",
      "8\n",
      "7\n",
      "6\n",
      "5\n",
      "4\n",
      "3\n",
      "2\n",
      "1\n",
      "Despegue.\n"
     ]
    }
   ],
   "source": [
    "n = 10\n",
    "while n > 0:\n",
    "    print(n)\n",
    "    n = n - 1\n",
    "print('Despegue.')"
   ]
  },
  {
   "cell_type": "markdown",
   "metadata": {},
   "source": [
    "Lista compacta"
   ]
  },
  {
   "cell_type": "code",
   "execution_count": 17,
   "metadata": {},
   "outputs": [
    {
     "name": "stdout",
     "output_type": "stream",
     "text": [
      "[10, 15, 20, 25, 30, 35, 40, 45, 50, 55]\n"
     ]
    }
   ],
   "source": [
    "multiplos_5 = [i for i in range(10,60,5)]\n",
    "print(multiplos_5)"
   ]
  },
  {
   "cell_type": "markdown",
   "metadata": {},
   "source": [
    "Duplicar los valores de la lista previa"
   ]
  },
  {
   "cell_type": "code",
   "execution_count": 18,
   "metadata": {},
   "outputs": [
    {
     "name": "stdout",
     "output_type": "stream",
     "text": [
      "[20, 30, 40, 50, 60, 70, 80, 90, 100, 110]\n"
     ]
    }
   ],
   "source": [
    "multiplos_5_doble = [2*i for i in multiplos_5]\n",
    "print(multiplos_5_doble)"
   ]
  },
  {
   "cell_type": "markdown",
   "metadata": {},
   "source": [
    "Filtrar con una condición simple: múltiplos de 10"
   ]
  },
  {
   "cell_type": "code",
   "execution_count": 19,
   "metadata": {},
   "outputs": [
    {
     "name": "stdout",
     "output_type": "stream",
     "text": [
      "[10, 20, 30, 40, 50]\n"
     ]
    }
   ],
   "source": [
    "multiplos_5_filtrado = [i for i in multiplos_5 if i%10 == 0]\n",
    "print(multiplos_5_filtrado)"
   ]
  },
  {
   "cell_type": "markdown",
   "metadata": {},
   "source": [
    "Reproducción más compacto del ejercicio previo"
   ]
  },
  {
   "cell_type": "code",
   "execution_count": 20,
   "metadata": {},
   "outputs": [],
   "source": [
    "numeros = [13, 7, 17, 15, 5, 8, 9, 18, 5, 31, 33, 13, 2]\n",
    "multiplos_tres = [x for x in numeros if x%3 == 0]\n",
    "no_multiplos_tres = [x for x in numeros if x%3 != 0]"
   ]
  },
  {
   "cell_type": "markdown",
   "metadata": {},
   "source": [
    "Crear diccionario a partir de una lista"
   ]
  },
  {
   "cell_type": "code",
   "execution_count": 21,
   "metadata": {},
   "outputs": [
    {
     "name": "stdout",
     "output_type": "stream",
     "text": [
      "{0: 0, 1: 1, 2: 4, 3: 9, 4: 16, 5: 25, 6: 36, 7: 49, 8: 64, 9: 81}\n"
     ]
    }
   ],
   "source": [
    "#A partir de una lista.\n",
    "serie = [ i for i in range(10) ]\n",
    "cuadrados = {x:x**2 for x in serie}\n",
    "print(cuadrados)"
   ]
  },
  {
   "cell_type": "markdown",
   "metadata": {},
   "source": [
    "Crear diccionario a partir de otro diccionario"
   ]
  },
  {
   "cell_type": "code",
   "execution_count": 22,
   "metadata": {},
   "outputs": [
    {
     "name": "stdout",
     "output_type": "stream",
     "text": [
      "{'B': 6, 'D': 12, 'F': 18}\n"
     ]
    }
   ],
   "source": [
    "#A partir de otro diccionario\n",
    "codigo = {'a':1, 'b':2, 'c':3, 'd':4, 'e':5, 'f':6}\n",
    "modificado = {k.upper():v*3 for (k,v) in codigo.items() if v%2==0}\n",
    "print(modificado)"
   ]
  },
  {
   "cell_type": "markdown",
   "metadata": {},
   "source": [
    "## TRABAJO CON ARCHIVOS"
   ]
  },
  {
   "cell_type": "markdown",
   "metadata": {},
   "source": [
    "Uso del salto de línea"
   ]
  },
  {
   "cell_type": "code",
   "execution_count": 1,
   "metadata": {},
   "outputs": [
    {
     "name": "stdout",
     "output_type": "stream",
     "text": [
      "Hola \n",
      "Tierra\n"
     ]
    }
   ],
   "source": [
    "hola = 'Hola \\nTierra'\n",
    "print(hola)"
   ]
  },
  {
   "cell_type": "markdown",
   "metadata": {},
   "source": [
    "Abrir y mostrar un archivo existente"
   ]
  },
  {
   "cell_type": "code",
   "execution_count": 2,
   "metadata": {},
   "outputs": [
    {
     "name": "stdout",
     "output_type": "stream",
     "text": [
      "<_io.TextIOWrapper name='text.txt' mode='r' encoding='UTF-8'>\n"
     ]
    }
   ],
   "source": [
    "archivo = open('text.txt')\n",
    "print(archivo)"
   ]
  },
  {
   "cell_type": "markdown",
   "metadata": {},
   "source": [
    "Inspeccionar el archivo usando un ciclo FOR"
   ]
  },
  {
   "cell_type": "code",
   "execution_count": 3,
   "metadata": {},
   "outputs": [
    {
     "name": "stdout",
     "output_type": "stream",
     "text": [
      "Many young people seem to enjoy tackling tough theoretical problems, but when the\n",
      "\n",
      "time comes for application they are often disappointed to find that the theory is in\n",
      "\n",
      "some ways irrelevant or inadequate to the problem at hand. At first this causes a\n",
      "\n",
      "diminished interest in practical problems. But eventually many come to see the real\n",
      "\n",
      "problems as more interesting than the original mathematical models.\n",
      "\n",
      "\n",
      "\n",
      "The main use of reflection seismic imaging is petroleum prospecting. Unlike nuclear energy, \n",
      "\n",
      "hydrocarbons are a nonrenewable resource and there is evidence that petroleum production must \n",
      "\n",
      "decline during the lifetimes of the young generation. Does this mean that young people should \n",
      "\n",
      "avoid these studies? I think not. Taking the long-range view, with the population of the earth \n",
      "\n",
      "continuing to increase, it is not easy to imagine people losing interest in the earth's crust. \n",
      "\n",
      "A view of more intermediate range is that as the resource declines in abundance, there will be \n",
      "\n",
      "greater e\u000borts to seek it. A short-range view is that workers are needed today, and there are no \n",
      "\n",
      "coal- or nuclear-powered airplanes. In any case, the skills developed in computer\n",
      "\n",
      "implementations of concepts from physics, will always be of general utility.\n",
      "Número de líneas: 15\n"
     ]
    }
   ],
   "source": [
    "conteo = 0 \n",
    "for linea in archivo:\n",
    "    print(linea)\n",
    "    conteo = conteo + 1\n",
    "print('Número de líneas:', conteo)"
   ]
  },
  {
   "cell_type": "code",
   "execution_count": 4,
   "metadata": {},
   "outputs": [],
   "source": [
    "archivo = open('text.txt')   #Abrir archivo.\n",
    "texto = archivo.read()       #Guardar archivo en variable.\n",
    "archivo.close()              #Cerrar archivo. Siempre cerrarlo."
   ]
  },
  {
   "cell_type": "markdown",
   "metadata": {},
   "source": [
    "Crear archivo nuevo"
   ]
  },
  {
   "cell_type": "code",
   "execution_count": 5,
   "metadata": {},
   "outputs": [],
   "source": [
    "archivo = open('texto_nuevo.txt', 'w')\n",
    "linea1 = 'It is remarkable that more than 99% of industrial\\n'\n",
    "archivo.write(linea1)\n",
    "linea2 = 'petroleum prospecting ignores the existence of\\n'\n",
    "archivo.write(linea2)\n",
    "linea3 = 'shear waves. Mathematically the earth is treated as\\n'\n",
    "archivo.write(linea3)\n",
    "linea4 = 'if it were a liquid or a gas.\\n'\n",
    "archivo.write(linea4)\n",
    "archivo.close()"
   ]
  },
  {
   "cell_type": "markdown",
   "metadata": {},
   "source": [
    "Comprobar si hay una palabra en el archivo recién creado"
   ]
  },
  {
   "cell_type": "code",
   "execution_count": 6,
   "metadata": {},
   "outputs": [
    {
     "name": "stdout",
     "output_type": "stream",
     "text": [
      "Mathematically\n"
     ]
    }
   ],
   "source": [
    "#linea3 es una cadena. Se convierte en lista de palabras.\n",
    "lista_linea3 = linea3.split(' ')\n",
    "#Se recorre palabra por palabra en esta lista.\n",
    "for palabra in lista_linea3:\n",
    "    if palabra == 'Mathematically':\n",
    "        keyword = palabra\n",
    "print(keyword)"
   ]
  }
 ],
 "metadata": {
  "interpreter": {
   "hash": "3f5f705a3b91c088aa9d22753ba5825f9d4f8d4d04c09e12d44370a4c202a32f"
  },
  "kernelspec": {
   "display_name": "Python 3.8.12 ('base')",
   "language": "python",
   "name": "python3"
  },
  "language_info": {
   "codemirror_mode": {
    "name": "ipython",
    "version": 3
   },
   "file_extension": ".py",
   "mimetype": "text/x-python",
   "name": "python",
   "nbconvert_exporter": "python",
   "pygments_lexer": "ipython3",
   "version": "3.8.12"
  },
  "orig_nbformat": 4
 },
 "nbformat": 4,
 "nbformat_minor": 2
}
